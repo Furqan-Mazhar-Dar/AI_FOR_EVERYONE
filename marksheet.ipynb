{
 "cells": [
  {
   "cell_type": "code",
   "execution_count": 5,
   "metadata": {},
   "outputs": [
    {
     "name": "stdout",
     "output_type": "stream",
     "text": [
      "enter the number of subject Ai for everyone90\n",
      "enter the number of subject Machine Learning90\n",
      "enter the number of subject Data Science80\n",
      "enter the number of subject Deep learning80\n",
      "enter the number of subject Python70\n",
      "your obtained marks is 410 and your percentage is 82.0\n",
      "your grade is A+\n"
     ]
    }
   ],
   "source": [
    "subject1 =int( input(\"enter the number of subject Ai for everyone\") )\n",
    "subject2 =int( input(\"enter the number of subject Machine Learning\") )\n",
    "subject3 =int( input(\"enter the number of subject Data Science\") )\n",
    "subject4 =int( input(\"enter the number of subject Deep learning\") )\n",
    "subject5 =int( input(\"enter the number of subject Python\") )\n",
    "if  subject1 <0 or subject2 <0 or subject3 <0 or subject4 <0 or subject5 <0: \n",
    "    print(\"You can't enter marks less than zero\")\n",
    "elif subject1 <= 100 and subject2 <= 100 and subject3 <= 100 and subject4 <=100 and subject5 <=100:\n",
    "    total = 500\n",
    "    marks= subject1 + subject2 + subject3 + subject4 + subject5\n",
    "    percentage =(marks / total)*100\n",
    "    print(\"your obtained marks is\" ,marks, \"and your percentage is\" ,percentage)\n",
    "    if percentage >= 80:\n",
    "        print(\"your grade is A+\")\n",
    "    elif percentage >= 70:\n",
    "        print(\"your grade is A\")\n",
    "    elif percentage >= 60:\n",
    "        print(\"your grade is B\")\n",
    "    elif percentage >= 50:\n",
    "        print(\"your grade is c\")\n",
    "    else:\n",
    "        print(\"failed\")\n",
    "else:\n",
    "    (\"you cannot enter marks greater than 100!\")\n",
    " \n"
   ]
  },
  {
   "cell_type": "code",
   "execution_count": null,
   "metadata": {},
   "outputs": [],
   "source": []
  }
 ],
 "metadata": {
  "kernelspec": {
   "display_name": "Python 3",
   "language": "python",
   "name": "python3"
  },
  "language_info": {
   "codemirror_mode": {
    "name": "ipython",
    "version": 3
   },
   "file_extension": ".py",
   "mimetype": "text/x-python",
   "name": "python",
   "nbconvert_exporter": "python",
   "pygments_lexer": "ipython3",
   "version": "3.7.3"
  }
 },
 "nbformat": 4,
 "nbformat_minor": 2
}
