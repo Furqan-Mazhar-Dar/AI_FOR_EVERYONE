{
 "cells": [
  {
   "cell_type": "code",
   "execution_count": 1,
   "metadata": {},
   "outputs": [
    {
     "name": "stdout",
     "output_type": "stream",
     "text": [
      "enter the radius of cirle1\n",
      "The area of circle with radius1is3.141592653589793\n"
     ]
    }
   ],
   "source": [
    "# Q1 Calculate Area of a Circle \n",
    "\n",
    "import math\n",
    "radius = int(input(\"enter the radius of cirle\"))\n",
    "area = math.pi * radius **2\n",
    "print(\"The area of circle with radius\" + str(radius) + \"is\" + str(area))"
   ]
  },
  {
   "cell_type": "code",
   "execution_count": 2,
   "metadata": {},
   "outputs": [
    {
     "name": "stdout",
     "output_type": "stream",
     "text": [
      "Enter Number: 7\n",
      "Positive Number Entered \n"
     ]
    }
   ],
   "source": [
    "# Q2 Check Number either positive, negative or zero\n",
    "\n",
    "number = int(input(\"Enter Number: \"))\n",
    "if number > 0:\n",
    "    print(\"Positive Number Entered \")\n",
    "elif number < 0:\n",
    "    print(\"Negative Number Entered \")\n",
    "else:\n",
    "    print(\"zero Entered \")\n"
   ]
  },
  {
   "cell_type": "code",
   "execution_count": 5,
   "metadata": {},
   "outputs": [
    {
     "name": "stdout",
     "output_type": "stream",
     "text": [
      "Enter Numerator: 4\n",
      "Enter Denominator: 3\n",
      "Number 4 is not Completly divisible by 3\n"
     ]
    }
   ],
   "source": [
    "#Q3 Divisibility Check of two numbers\n",
    "\n",
    "num = int(input(\"Enter Numerator: \"))\n",
    "den = int(input(\"Enter Denominator: \"))\n",
    "if num % den == 0:\n",
    "    print(\"Number \" + str(num) + \" is Completly divisible by \" + str(den))\n",
    "else:\n",
    "    print(\"Number \" + str(num) + \" is not Completly divisible by \" + str(den))"
   ]
  },
  {
   "cell_type": "code",
   "execution_count": 4,
   "metadata": {},
   "outputs": [
    {
     "name": "stdout",
     "output_type": "stream",
     "text": [
      "Enter a date in (dd/mm/yy) format: 12/12/2018\n",
      "Enter a date in (dd/mm/yy) format: 16/12/2018\n",
      "There are 4 days in between 12/12/2018 and 16/12/2018\n"
     ]
    }
   ],
   "source": [
    "#Q4 Days Calculator \n",
    "from datetime import datetime\n",
    "\n",
    "date1 = input(\"Enter a date in (dd/mm/yy) format: \")\n",
    "date2 = input(\"Enter a date in (dd/mm/yy) format: \")\n",
    "ddate1 = datetime.strptime(date1,\"%d/%m/%Y\")\n",
    "ddate2 = datetime.strptime(date2,\"%d/%m/%Y\")\n",
    "dif = str(ddate2 - ddate1)\n",
    "dif = dif[:-9]\n",
    "print(\"There are %s in between %s and %s\"%(dif,date1,date2))"
   ]
  },
  {
   "cell_type": "code",
   "execution_count": 1,
   "metadata": {},
   "outputs": [
    {
     "name": "stdout",
     "output_type": "stream",
     "text": [
      "enter the radius of Sphere: 1\n",
      "Volume of Sphere with radius 1 is 4.1887902047863905\n"
     ]
    }
   ],
   "source": [
    "# Q5 Calculate Volume of a sphere\n",
    "import math\n",
    "radius = int(input(\"enter the radius of Sphere: \"))\n",
    "area = (4 / 3)  * math.pi * radius **3\n",
    "print(\"Volume of Sphere with radius \" + str(radius) + \" is \" + str(area))\n"
   ]
  },
  {
   "cell_type": "code",
   "execution_count": 5,
   "metadata": {},
   "outputs": [
    {
     "name": "stdout",
     "output_type": "stream",
     "text": [
      "Enter String: Hi\n",
      "How many copies of string you need: 4\n",
      "4 Copies of Hi are HiHiHiHi\n"
     ]
    }
   ],
   "source": [
    "# Q6 Copy string n times \n",
    "string = input(\"Enter String: \")\n",
    "num = int(input(\"How many copies of string you need: \"))\n",
    "newstr = \"\"\n",
    "for i in range(num):\n",
    "    newstr += string\n",
    "print(str(num) + \" Copies of \" + string + \" are \" + newstr)"
   ]
  },
  {
   "cell_type": "code",
   "execution_count": 19,
   "metadata": {},
   "outputs": [
    {
     "name": "stdout",
     "output_type": "stream",
     "text": [
      "Enter Number: 4\n",
      "4 is Even\n"
     ]
    }
   ],
   "source": [
    "#Q7 Check if number is Even or Odd \n",
    "number = int(input(\"Enter Number: \"))\n",
    "if number % 2 == 0:\n",
    "    print(str(number) + \" is Even\")\n",
    "else:\n",
    "    print(str(number) + \" is Odd\")\t\n"
   ]
  },
  {
   "cell_type": "code",
   "execution_count": 21,
   "metadata": {},
   "outputs": [
    {
     "name": "stdout",
     "output_type": "stream",
     "text": [
      "Enter a character: A\n",
      "Letter A is Vowel\n"
     ]
    }
   ],
   "source": [
    "#Q8 Vowel Tester \n",
    "Vowels = ['a','e', 'i','o','u','A','E','I','O','U']\n",
    "letter = input(\"Enter a character: \")\n",
    "if letter in Vowels:\n",
    "     print(\"Letter \"+ letter + \" is Vowel\")\n",
    "else:\n",
    "     print(\"Letter \" + letter + \"is not Vowel\")"
   ]
  },
  {
   "cell_type": "code",
   "execution_count": 22,
   "metadata": {},
   "outputs": [
    {
     "name": "stdout",
     "output_type": "stream",
     "text": [
      "Enter magnitude of Triangle Base: 4\n",
      "Enter magnitude of Triangle Height: 4\n",
      "Area of Triangle with Height 4 and Base 4 is 8.0\n"
     ]
    }
   ],
   "source": [
    "#Q9 Triangle area\n",
    "base = int(input(\"Enter magnitude of Triangle Base: \"))\n",
    "height = int(input(\"Enter magnitude of Triangle Height: \"))\n",
    "\n",
    "area = (1 / 2) * base * height\n",
    "\n",
    "print(\"Area of Triangle with Height \" + str(height) + \" and Base \" + str(base) + \" is \" + str(area))"
   ]
  },
  {
   "cell_type": "code",
   "execution_count": 23,
   "metadata": {},
   "outputs": [
    {
     "name": "stdout",
     "output_type": "stream",
     "text": [
      "Please enter principal amount: 10000 \n",
      "Please enter rate of intrest in %: 0.1\n",
      "Enter the number of years for investment: 5\n",
      "After 5 your principal amount 10000 over an intrest rate 0.1% will be 16105.100000000006\n"
     ]
    }
   ],
   "source": [
    "#Q10  Calculate Interest \n",
    "Principal = int(input(\"Please enter principal amount: \"))\n",
    "rate = float(input(\"Please enter rate of intrest in %: \"))\n",
    "years = int(input(\"Enter the number of years for investment: \"))\n",
    "Amount = Principal * (1 + rate)**years\n",
    "print(\"After \" + str(years) + \" your principal amount \" + str(Principal) + \" over an intrest rate \" + str(rate) + \"% will be \" + str(Amount))"
   ]
  },
  {
   "cell_type": "code",
   "execution_count": 25,
   "metadata": {},
   "outputs": [
    {
     "name": "stdout",
     "output_type": "stream",
     "text": [
      "Enter Co-ordinate for X1: 2\n",
      "Enter Co-ordinate for X2: 4\n",
      "Enter Co-ordinate for Y1: 4\n",
      "Enter Co-ordinate for Y2: 4\n",
      "Distance between points (2,4) and (4,4) is 2\n"
     ]
    }
   ],
   "source": [
    "#Q11  Euclidean distance\n",
    "X1 = int(input(\"Enter Co-ordinate for X1: \"))\n",
    "X2 = int(input(\"Enter Co-ordinate for X2: \"))\n",
    "Y1 = int(input(\"Enter Co-ordinate for Y1: \"))\n",
    "Y2 = int(input(\"Enter Co-ordinate for Y2: \"))\n",
    "distance = ((X2-X1)**2 + (Y2 -Y1)**2)**(1 / 2)\n",
    "print((\"Distance between points (%d,%d) and (%d,%d) is %d\")%(X1,Y1,X2,Y2, distance))"
   ]
  },
  {
   "cell_type": "code",
   "execution_count": 26,
   "metadata": {},
   "outputs": [
    {
     "name": "stdout",
     "output_type": "stream",
     "text": [
      "Enter Height in Feet: 5\n",
      "There are 152.40 Cm in 5 feet\n"
     ]
    }
   ],
   "source": [
    "#Q12 Feet to Centimeter Converter \n",
    "hf = int(input(\"Enter Height in Feet: \"))\n",
    "hcm = hf * 30.48\n",
    "print(\"There are %.2f Cm in %d feet\" %(hcm, hf))"
   ]
  },
  {
   "cell_type": "code",
   "execution_count": 27,
   "metadata": {},
   "outputs": [
    {
     "name": "stdout",
     "output_type": "stream",
     "text": [
      "Enter Height in CM: 180\n",
      "Enter Weight in KG: 75\n",
      "Your BMI is 23.15\n"
     ]
    }
   ],
   "source": [
    "#Q13  BMI Calculator \n",
    "height = int(input(\"Enter Height in CM: \"))\n",
    "weight = int(input(\"Enter Weight in KG: \"))\n",
    "BMI = weight / (height / 100)**2\n",
    "print((\"Your BMI is %.2f\")%(BMI))"
   ]
  },
  {
   "cell_type": "code",
   "execution_count": 29,
   "metadata": {},
   "outputs": [
    {
     "name": "stdout",
     "output_type": "stream",
     "text": [
      "Enter value of n: 5\n",
      "Sum of n Positive number till 5 is 15\n"
     ]
    }
   ],
   "source": [
    "#Q14  Sum of n Positive Integers \n",
    "n = int(input(\"Enter value of n: \"))\n",
    "tsum = 0\n",
    "for i in range(n):\n",
    "    tsum += i + 1\n",
    "print(\"Sum of n Positive number till %d is %d\" %(n, tsum))"
   ]
  },
  {
   "cell_type": "code",
   "execution_count": 31,
   "metadata": {},
   "outputs": [
    {
     "name": "stdout",
     "output_type": "stream",
     "text": [
      "Enter a Number: 15\n",
      "Sum of 1 + 5 is 6\n"
     ]
    }
   ],
   "source": [
    "#Q15 Digits Sum of a Number \n",
    "digits = input(\"Enter a Number: \")\n",
    "sumstr = \"Sum of \"\n",
    "tsum = 0\n",
    "for i in digits:\n",
    "    sumstr += i + \" + \"\n",
    "    tsum += int(i)\n",
    "sumstr = sumstr[:-3]\n",
    "print(\"%s is %d\"%(sumstr, tsum))"
   ]
  },
  {
   "cell_type": "code",
   "execution_count": 32,
   "metadata": {},
   "outputs": [
    {
     "name": "stdout",
     "output_type": "stream",
     "text": [
      "Enter a decimal number: 5\n",
      "Binary representation of 1 is 101\n"
     ]
    }
   ],
   "source": [
    "#Q16 Decimal to Binary Converter \n",
    "dnum = int(input(\"Enter a decimal number: \"))\n",
    "br = \"\"\n",
    "while(dnum != 1):\n",
    "    br += str(dnum % 2)\n",
    "    dnum = int(dnum / 2)\n",
    "br += '1'\n",
    "br = br[::-1]\n",
    "print(\"Binary representation of %d is %s\"%(dnum, br))"
   ]
  },
  {
   "cell_type": "code",
   "execution_count": 21,
   "metadata": {},
   "outputs": [
    {
     "name": "stdout",
     "output_type": "stream",
     "text": [
      "Enter a Binary Number: 1101\n",
      "Decimal representation of 1101 is 13\n"
     ]
    }
   ],
   "source": [
    "#Q17 Binary to Decimal Converter\n",
    "bnum = input(\"Enter a Binary Number: \")\n",
    "decimal = 0\n",
    "for i in range(len(bnum)):\n",
    "    decimal += (int(bnum[-(i + 1)])) * 2 **i\n",
    "print(\"Decimal representation of %s is %d\"%(bnum, decimal))"
   ]
  },
  {
   "cell_type": "code",
   "execution_count": 37,
   "metadata": {},
   "outputs": [
    {
     "name": "stdout",
     "output_type": "stream",
     "text": [
      "Enter Text:QuickBrownFoxJumpsovertheDog\n",
      "Vowels: 9 \n",
      "Constants: 19\n"
     ]
    }
   ],
   "source": [
    "#Q18 Vowel and Consonants Counter \n",
    "vowels = 'aeiou'\n",
    "const = 'bcdfghjklmnpqrstvwxyz'\n",
    "text = input(\"Enter Text:\")\n",
    "vowelc = 0\n",
    "constc = 0\n",
    "text = text.lower()\n",
    "for i in text:\n",
    "    if i in vowels:\n",
    "        vowelc += 1\n",
    "    elif i in const:\n",
    "        constc += 1\n",
    "print(\"Vowels: %d \\nConstants: %d\"%(vowelc, constc))"
   ]
  },
  {
   "cell_type": "code",
   "execution_count": 41,
   "metadata": {},
   "outputs": [
    {
     "name": "stdout",
     "output_type": "stream",
     "text": [
      "Enter Text: AHA\n",
      "Text AHA is Palindrome\n"
     ]
    }
   ],
   "source": [
    "#Q19 Palindrome tester \n",
    "def ispal(text):\n",
    "\n",
    "    if len(text) <= 1:\n",
    "         return True\n",
    "    if text[0] == text[-1]:\n",
    "        return ispal(text[1:-1])\n",
    "    else:\n",
    "         return False\n",
    "text = input(\"Enter Text: \")\n",
    "if ispal(text.lower()) == True:\n",
    "    print(\"Text %s is Palindrome\"%(text))\n",
    "else:\n",
    "    print(\"Text %s is not Palindrome\"%(text))"
   ]
  },
  {
   "cell_type": "code",
   "execution_count": 42,
   "metadata": {},
   "outputs": [
    {
     "name": "stdout",
     "output_type": "stream",
     "text": [
      "Enter Text: python 3.2\n",
      "Numbers = 2 \n",
      "Alphabets: 6\n",
      "Special Characters = 1\n",
      "Spaces = 1\n"
     ]
    }
   ],
   "source": [
    "#Q20 Count Alphabets, Numbers and Special Characters \n",
    "alpha = \"abcdefghijklmnopqrstuvwxyz\"\n",
    "numbers = \"1234567890\"\n",
    "text = input(\"Enter Text: \")\n",
    "alphac = 0\n",
    "numberc = 0\n",
    "scharc = 0\n",
    "spacec = 0\n",
    "text = text.lower()\n",
    "for i in text:\n",
    "    if i in alpha:\n",
    "         alphac += 1\n",
    "    elif i in numbers:\n",
    "         numberc += 1\n",
    "    elif i == ' ':\n",
    "        spacec += 1\n",
    "    else:\n",
    "        scharc += 1\n",
    "print(\"Numbers = %d \\nAlphabets: %d\\nSpecial Characters = %d\\nSpaces = %d\"%(numberc, alphac,scharc,spacec))"
   ]
  },
  {
   "cell_type": "code",
   "execution_count": 1,
   "metadata": {},
   "outputs": [
    {
     "name": "stdout",
     "output_type": "stream",
     "text": [
      "\n",
      "* \n",
      "* * \n",
      "* * * \n",
      "* * * * \n",
      "* * * * * \n",
      "* * * * \n",
      "* * * \n",
      "* * \n",
      "* \n"
     ]
    }
   ],
   "source": [
    "#Q21 Write a Python program to construct the following pattern \n",
    "n=5;\n",
    "for i in range(n):\n",
    "    for j in range(i):\n",
    "        print ('* ', end=\"\")\n",
    "    print('')\n",
    "\n",
    "for i in range(n,0,-1):\n",
    "    for j in range(i):\n",
    "        print('* ', end=\"\")\n",
    "    print('')"
   ]
  },
  {
   "cell_type": "code",
   "execution_count": 22,
   "metadata": {},
   "outputs": [
    {
     "name": "stdout",
     "output_type": "stream",
     "text": [
      "1 \n",
      "1 2 \n",
      "1 2 3 \n",
      "1 2 3 4 \n",
      "1 2 3 4 5 \n",
      "1 2 3 4 \n",
      "1 2 3 \n",
      "1 2 \n"
     ]
    }
   ],
   "source": [
    "#Q22 Write a Python program to construct the following pattern\n",
    "lastNumber = 6\n",
    "for row in range(1, lastNumber):\n",
    "    for column in range(1, row + 1):\n",
    "        print(column, end=' ')\n",
    "    print(\"\")\n",
    "lastNumber = 4\n",
    "for column in range(lastNumber,1,-1):\n",
    "    for row in range(1, column +1):\n",
    "        print(row, end=' ')\n",
    "    print(\"\")"
   ]
  },
  {
   "cell_type": "code",
   "execution_count": 12,
   "metadata": {},
   "outputs": [
    {
     "name": "stdout",
     "output_type": "stream",
     "text": [
      "\n",
      "1\n",
      "22\n",
      "333\n",
      "4444\n",
      "55555\n",
      "666666\n",
      "7777777\n",
      "88888888\n",
      "999999999\n"
     ]
    }
   ],
   "source": [
    "#Q23 Write a Python program to construct the following pattern\n",
    "for i in range(10):\n",
    "    print(str(i) * i)"
   ]
  },
  {
   "cell_type": "code",
   "execution_count": null,
   "metadata": {},
   "outputs": [],
   "source": []
  }
 ],
 "metadata": {
  "kernelspec": {
   "display_name": "Python 3",
   "language": "python",
   "name": "python3"
  },
  "language_info": {
   "codemirror_mode": {
    "name": "ipython",
    "version": 3
   },
   "file_extension": ".py",
   "mimetype": "text/x-python",
   "name": "python",
   "nbconvert_exporter": "python",
   "pygments_lexer": "ipython3",
   "version": "3.7.3"
  }
 },
 "nbformat": 4,
 "nbformat_minor": 2
}
